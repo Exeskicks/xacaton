{
  "nbformat": 4,
  "nbformat_minor": 0,
  "metadata": {
    "colab": {
      "provenance": [],
      "authorship_tag": "ABX9TyO+eA8PlxszadOZoIrKdPx8",
      "include_colab_link": true
    },
    "kernelspec": {
      "name": "python3",
      "display_name": "Python 3"
    },
    "language_info": {
      "name": "python"
    }
  },
  "cells": [
    {
      "cell_type": "markdown",
      "metadata": {
        "id": "view-in-github",
        "colab_type": "text"
      },
      "source": [
        "<a href=\"https://colab.research.google.com/github/Exeskicks/xacaton/blob/main/untitled7.ipynb\" target=\"_parent\"><img src=\"https://colab.research.google.com/assets/colab-badge.svg\" alt=\"Open In Colab\"/></a>"
      ]
    },
    {
      "cell_type": "markdown",
      "source": [
        "#Косинусоидальное сходство"
      ],
      "metadata": {
        "id": "IBeCkY52YKj9"
      }
    },
    {
      "cell_type": "code",
      "execution_count": null,
      "metadata": {
        "colab": {
          "base_uri": "https://localhost:8080/"
        },
        "id": "v7IZ_LkgWpzh",
        "outputId": "5f561856-eb65-4938-80f7-1ccf35a6bd83"
      },
      "outputs": [
        {
          "output_type": "stream",
          "name": "stdout",
          "text": [
            "Косинусное сходство между определенными словами из текста резюме и текста описания вакансии: 0.912870929175277\n"
          ]
        }
      ],
      "source": [
        "from sklearn.feature_extraction.text import CountVectorizer\n",
        "from sklearn.feature_extraction.text import TfidfTransformer\n",
        "from sklearn.metrics.pairwise import cosine_similarity\n",
        "\n",
        "# Определенные слова из текста резюме и текста описания вакансии\n",
        "resume_words = \"Python developer programming experience web development\"\n",
        "job_description_words = \"Python developer experience web development\"\n",
        "\n",
        "\n",
        "def cosinSimilarity(resume_words, job_description_words):\n",
        "\n",
        "\n",
        "  # Преобразование текста в вектора с помощью CountVectorizer и TfidfTransformer\n",
        "  vectorizer = CountVectorizer()\n",
        "  transformer = TfidfTransformer()\n",
        "\n",
        "  resume_vector = vectorizer.fit_transform([resume_words])\n",
        "  job_description_vector = vectorizer.transform([job_description_words])\n",
        "\n",
        "  resume_tfidf = transformer.fit_transform(resume_vector)\n",
        "  job_description_tfidf = transformer.transform(job_description_vector)\n",
        "\n",
        "  # Вычисление косинусного сходства между векторами\n",
        "  cosine_sim = cosine_similarity(resume_tfidf, job_description_tfidf)\n",
        "\n",
        "  print(\"Косинусное сходство между определенными словами из текста резюме и текста описания вакансии:\", cosine_sim[0][0])\n",
        "\n",
        "\n",
        "cosinSimilarity(resume_words, job_description_words)"
      ]
    },
    {
      "cell_type": "markdown",
      "source": [
        "#Расстояние Левенштейна"
      ],
      "metadata": {
        "id": "xd2o8zK2YRX2"
      }
    },
    {
      "cell_type": "code",
      "source": [
        "import numpy as np\n",
        "\n",
        "def levenshtein_distance(vacancy, course):\n",
        "    m, n = len(vacancy), len(course)\n",
        "    d = np.zeros((m + 1, n + 1))\n",
        "\n",
        "    for i in range(m + 1):\n",
        "        d[i, 0] = i\n",
        "    for j in range(n + 1):\n",
        "        d[0, j] = j\n",
        "\n",
        "    for i in range(1, m + 1):\n",
        "        for j in range(1, n + 1):\n",
        "            cost = 0 if vacancy[i - 1] == course[j - 1] else 1\n",
        "            d[i, j] = min(d[i - 1, j] + 1, d[i, j - 1] + 1, d[i - 1, j - 1] + cost)\n",
        "\n",
        "    if(d[m, n] <= 5):\n",
        "      print(d[m, n], \" Имеется небольшое количество ошибок или опечаток в строках.\")\n",
        "    elif(d[m, n] <= 10):\n",
        "      print(d[m, n], \"Строки имеют среднее расстояние, что может указывать на несколько значительных отклонений или изменений между ними.\")\n",
        "    else:\n",
        "      print(d[m, n], \"Строки считаются достаточно различными, вероятно имеются значительные изменения в тексте, возможно в одной из строк есть опечатки или перестановки.\")\n",
        "# Example usage\n",
        "vacancy = \"Python developer with 3+ years of experience\"\n",
        "course = \"Python programming course for beginners\"\n",
        "\n",
        "vacancy_tokens = vacancy.split()\n",
        "resume_tokens = course.split()\n",
        "levenshtein_distance(vacancy_tokens, resume_tokens)"
      ],
      "metadata": {
        "colab": {
          "base_uri": "https://localhost:8080/"
        },
        "id": "nspZjzNNYI_x",
        "outputId": "dbad3859-1072-4a19-fed8-839535b6c068"
      },
      "execution_count": null,
      "outputs": [
        {
          "output_type": "stream",
          "name": "stdout",
          "text": [
            "6.0 Строки имеют среднее расстояние, что может указывать на несколько значительных отклонений или изменений между ними.\n"
          ]
        }
      ]
    },
    {
      "cell_type": "markdown",
      "source": [
        "#Коэффициент Жаккара"
      ],
      "metadata": {
        "id": "OMW51tx7ifA-"
      }
    },
    {
      "cell_type": "code",
      "source": [
        "import pandas as pd\n",
        "\n",
        "# Job vacancy skills\n",
        "vacancy_skills = ['Python', 'Data Science', 'Machine Learning', 'SQL', 'Statistics']\n",
        "\n",
        "# Course skills\n",
        "course_skills = ['Python', 'Data Analysis', 'Machine Learning', 'Data Visualization', 'R']\n",
        "\n",
        "# Convert skills to sets\n",
        "vacancy_skills_set = set(vacancy_skills)\n",
        "course_skills_set = set(course_skills)\n",
        "\n",
        "# Calculate Jaccard index\n",
        "jaccard_index = len(vacancy_skills_set & course_skills_set) / len(vacancy_skills_set | course_skills_set)\n",
        "\n",
        "print(\"Jaccard index:\", jaccard_index)\n",
        "\n",
        "# Interpret the result\n",
        "if jaccard_index > 0.5:\n",
        "    print(\"Этот курс хорошо подходит для данной вакансии.\")\n",
        "else:\n",
        "    print(\"Этот курс не очень подходит для данной вакансии.\")"
      ],
      "metadata": {
        "colab": {
          "base_uri": "https://localhost:8080/"
        },
        "id": "OSiqdMOWisDO",
        "outputId": "cdd55802-3679-469e-c2ec-0694fec1ab0c"
      },
      "execution_count": null,
      "outputs": [
        {
          "output_type": "stream",
          "name": "stdout",
          "text": [
            "Jaccard index: 0.25\n",
            "Этот курс не очень подходит для данной вакансии.\n"
          ]
        }
      ]
    },
    {
      "cell_type": "markdown",
      "source": [
        "#Евклидово расстояние"
      ],
      "metadata": {
        "id": "vCTSpNXBpElJ"
      }
    },
    {
      "cell_type": "code",
      "source": [
        "import math\n",
        "\n",
        "def euclidean_distance(vacancy_skills, course_skills):\n",
        "    vacancy_skills_set = set(vacancy_skills)\n",
        "    course_skills_set = set(course_skills)\n",
        "\n",
        "    common_skills = vacancy_skills_set.intersection(course_skills_set)\n",
        "\n",
        "    distance = math.sqrt(sum((vacancy_skills.count(skill) - course_skills.count(skill))**2 for skill in common_skills))\n",
        "\n",
        "    return distance\n",
        "\n",
        "# Пример применения\n",
        "vacancy_skills = [\"Python\", \"SQL\", \"Data Mining\", \"Machine Learning\"]\n",
        "course_skills = [\"Python\", \"R\", \"SQL\", \"Data Visualization\"]\n",
        "\n",
        "distance = euclidean_distance(vacancy_skills, course_skills)\n",
        "print(f\"Евклидово расстояние между вакансией и курсом: {distance}\")\n"
      ],
      "metadata": {
        "colab": {
          "base_uri": "https://localhost:8080/"
        },
        "id": "4dETskCgqFQh",
        "outputId": "9f571797-3b10-4afd-9cf9-b90eec7e35b0"
      },
      "execution_count": null,
      "outputs": [
        {
          "output_type": "stream",
          "name": "stdout",
          "text": [
            "Евклидово расстояние между вакансией и курсом: 0.0\n"
          ]
        }
      ]
    },
    {
      "cell_type": "markdown",
      "source": [
        "#Word embeddings\n"
      ],
      "metadata": {
        "id": "ot7ZDTGorX5z"
      }
    },
    {
      "cell_type": "code",
      "source": [
        "pip install gensim\n"
      ],
      "metadata": {
        "colab": {
          "base_uri": "https://localhost:8080/"
        },
        "id": "jN7N4SFbsMl_",
        "outputId": "f831916c-05f2-404a-ba6a-d0572e5f3cfe"
      },
      "execution_count": null,
      "outputs": [
        {
          "output_type": "stream",
          "name": "stdout",
          "text": [
            "Requirement already satisfied: gensim in /usr/local/lib/python3.10/dist-packages (4.3.2)\n",
            "Requirement already satisfied: numpy>=1.18.5 in /usr/local/lib/python3.10/dist-packages (from gensim) (1.25.2)\n",
            "Requirement already satisfied: scipy>=1.7.0 in /usr/local/lib/python3.10/dist-packages (from gensim) (1.11.4)\n",
            "Requirement already satisfied: smart-open>=1.8.1 in /usr/local/lib/python3.10/dist-packages (from gensim) (6.4.0)\n"
          ]
        }
      ]
    },
    {
      "cell_type": "code",
      "source": [
        "pip install glove-python"
      ],
      "metadata": {
        "colab": {
          "base_uri": "https://localhost:8080/"
        },
        "id": "lYs1oKs2uwIe",
        "outputId": "d289ae46-7231-4280-aab5-64223d4e6db7"
      },
      "execution_count": null,
      "outputs": [
        {
          "output_type": "stream",
          "name": "stdout",
          "text": [
            "Collecting glove-python\n",
            "  Using cached glove_python-0.1.0.tar.gz (263 kB)\n",
            "  Preparing metadata (setup.py) ... \u001b[?25l\u001b[?25hdone\n",
            "Requirement already satisfied: numpy in /usr/local/lib/python3.10/dist-packages (from glove-python) (1.25.2)\n",
            "Requirement already satisfied: scipy in /usr/local/lib/python3.10/dist-packages (from glove-python) (1.11.4)\n",
            "Building wheels for collected packages: glove-python\n",
            "  \u001b[1;31merror\u001b[0m: \u001b[1msubprocess-exited-with-error\u001b[0m\n",
            "  \n",
            "  \u001b[31m×\u001b[0m \u001b[32mpython setup.py bdist_wheel\u001b[0m did not run successfully.\n",
            "  \u001b[31m│\u001b[0m exit code: \u001b[1;36m1\u001b[0m\n",
            "  \u001b[31m╰─>\u001b[0m See above for output.\n",
            "  \n",
            "  \u001b[1;35mnote\u001b[0m: This error originates from a subprocess, and is likely not a problem with pip.\n",
            "  Building wheel for glove-python (setup.py) ... \u001b[?25lerror\n",
            "\u001b[31m  ERROR: Failed building wheel for glove-python\u001b[0m\u001b[31m\n",
            "\u001b[0m\u001b[?25h  Running setup.py clean for glove-python\n",
            "  \u001b[1;31merror\u001b[0m: \u001b[1msubprocess-exited-with-error\u001b[0m\n",
            "  \n",
            "  \u001b[31m×\u001b[0m \u001b[32mpython setup.py clean\u001b[0m did not run successfully.\n",
            "  \u001b[31m│\u001b[0m exit code: \u001b[1;36m1\u001b[0m\n",
            "  \u001b[31m╰─>\u001b[0m See above for output.\n",
            "  \n",
            "  \u001b[1;35mnote\u001b[0m: This error originates from a subprocess, and is likely not a problem with pip.\n",
            "\u001b[31m  ERROR: Failed cleaning build dir for glove-python\u001b[0m\u001b[31m\n",
            "\u001b[0mFailed to build glove-python\n",
            "\u001b[31mERROR: Could not build wheels for glove-python, which is required to install pyproject.toml-based projects\u001b[0m\u001b[31m\n",
            "\u001b[0m"
          ]
        }
      ]
    },
    {
      "cell_type": "code",
      "source": [
        "import numpy as np\n",
        "from glove import Glove\n",
        "from sklearn.metrics.pairwise import cosine_similarity\n",
        "# Load pre-trained word embeddings\n",
        "glove = Glove.load('glove.6B.100d.txt')\n",
        "\n",
        "# Job vacancy description\n",
        "vacancy_description = \"We are looking for a skilled data scientist with experience in machine learning, data analysis, and cloud computing. The ideal candidate will have strong communication skills and experience in team management.\"\n",
        "\n",
        "# Course description\n",
        "course_description = \"This course covers machine learning, data analysis, and cloud computing. Students will learn how to apply these skills in real-world scenarios and develop strong communication skills.\"\n",
        "\n",
        "\n",
        "# Calculate cosine similarity\n",
        "similarity = cosine_similarity([vacancy_vector], [course_vector])[0][0]\n",
        "print(f\"Cosine similarity: {similarity:.2f}\")"
      ],
      "metadata": {
        "colab": {
          "base_uri": "https://localhost:8080/",
          "height": 383
        },
        "id": "Ih7vq_WCsUNz",
        "outputId": "de21a2d9-a8da-4562-935f-6e435c2f3457"
      },
      "execution_count": null,
      "outputs": [
        {
          "output_type": "error",
          "ename": "ModuleNotFoundError",
          "evalue": "No module named 'glove'",
          "traceback": [
            "\u001b[0;31m---------------------------------------------------------------------------\u001b[0m",
            "\u001b[0;31mModuleNotFoundError\u001b[0m                       Traceback (most recent call last)",
            "\u001b[0;32m<ipython-input-26-3703e36bb515>\u001b[0m in \u001b[0;36m<cell line: 2>\u001b[0;34m()\u001b[0m\n\u001b[1;32m      1\u001b[0m \u001b[0;32mimport\u001b[0m \u001b[0mnumpy\u001b[0m \u001b[0;32mas\u001b[0m \u001b[0mnp\u001b[0m\u001b[0;34m\u001b[0m\u001b[0;34m\u001b[0m\u001b[0m\n\u001b[0;32m----> 2\u001b[0;31m \u001b[0;32mfrom\u001b[0m \u001b[0mglove\u001b[0m \u001b[0;32mimport\u001b[0m \u001b[0mGlove\u001b[0m\u001b[0;34m\u001b[0m\u001b[0;34m\u001b[0m\u001b[0m\n\u001b[0m\u001b[1;32m      3\u001b[0m \u001b[0;32mfrom\u001b[0m \u001b[0msklearn\u001b[0m\u001b[0;34m.\u001b[0m\u001b[0mmetrics\u001b[0m\u001b[0;34m.\u001b[0m\u001b[0mpairwise\u001b[0m \u001b[0;32mimport\u001b[0m \u001b[0mcosine_similarity\u001b[0m\u001b[0;34m\u001b[0m\u001b[0;34m\u001b[0m\u001b[0m\n\u001b[1;32m      4\u001b[0m \u001b[0;31m# Load pre-trained word embeddings\u001b[0m\u001b[0;34m\u001b[0m\u001b[0;34m\u001b[0m\u001b[0m\n\u001b[1;32m      5\u001b[0m \u001b[0mglove\u001b[0m \u001b[0;34m=\u001b[0m \u001b[0mGlove\u001b[0m\u001b[0;34m.\u001b[0m\u001b[0mload\u001b[0m\u001b[0;34m(\u001b[0m\u001b[0;34m'glove.6B.100d.txt'\u001b[0m\u001b[0;34m)\u001b[0m\u001b[0;34m\u001b[0m\u001b[0;34m\u001b[0m\u001b[0m\n",
            "\u001b[0;31mModuleNotFoundError\u001b[0m: No module named 'glove'",
            "",
            "\u001b[0;31m---------------------------------------------------------------------------\u001b[0;32m\nNOTE: If your import is failing due to a missing package, you can\nmanually install dependencies using either !pip or !apt.\n\nTo view examples of installing some common dependencies, click the\n\"Open Examples\" button below.\n\u001b[0;31m---------------------------------------------------------------------------\u001b[0m\n"
          ],
          "errorDetails": {
            "actions": [
              {
                "action": "open_url",
                "actionText": "Open Examples",
                "url": "/notebooks/snippets/importing_libraries.ipynb"
              }
            ]
          }
        }
      ]
    }
  ]
}